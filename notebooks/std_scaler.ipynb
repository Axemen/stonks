{
 "cells": [
  {
   "cell_type": "code",
   "execution_count": 16,
   "metadata": {},
   "outputs": [],
   "source": [
    "from sklearn.preprocessing import StandardScaler\n",
    "from sklearn.linear_model import SGDRegressor\n",
    "from sklearn.pipeline import make_pipeline"
   ]
  },
  {
   "cell_type": "code",
   "execution_count": 14,
   "metadata": {},
   "outputs": [],
   "source": [
    "import pandas as pd\n",
    "\n",
    "df = pd.read_csv('../data/spy.csv', index_col='date')"
   ]
  },
  {
   "cell_type": "code",
   "execution_count": 68,
   "metadata": {},
   "outputs": [
    {
     "name": "stderr",
     "output_type": "stream",
     "text": [
      "d:\\stonks\\stonks\\lib\\site-packages\\ipykernel_launcher.py:1: SettingWithCopyWarning: \n",
      "A value is trying to be set on a copy of a slice from a DataFrame.\n",
      "Try using .loc[row_indexer,col_indexer] = value instead\n",
      "\n",
      "See the caveats in the documentation: https://pandas.pydata.org/pandas-docs/stable/user_guide/indexing.html#returning-a-view-versus-a-copy\n",
      "  \"\"\"Entry point for launching an IPython kernel.\n"
     ]
    }
   ],
   "source": [
    "df['y'] = df.close.shift(-1)\n",
    "df = df.dropna()"
   ]
  },
  {
   "cell_type": "code",
   "execution_count": 69,
   "metadata": {},
   "outputs": [
    {
     "data": {
      "text/html": [
       "<div>\n",
       "<style scoped>\n",
       "    .dataframe tbody tr th:only-of-type {\n",
       "        vertical-align: middle;\n",
       "    }\n",
       "\n",
       "    .dataframe tbody tr th {\n",
       "        vertical-align: top;\n",
       "    }\n",
       "\n",
       "    .dataframe thead th {\n",
       "        text-align: right;\n",
       "    }\n",
       "</style>\n",
       "<table border=\"1\" class=\"dataframe\">\n",
       "  <thead>\n",
       "    <tr style=\"text-align: right;\">\n",
       "      <th></th>\n",
       "      <th>close</th>\n",
       "      <th>high</th>\n",
       "      <th>low</th>\n",
       "      <th>open</th>\n",
       "      <th>y</th>\n",
       "    </tr>\n",
       "    <tr>\n",
       "      <th>date</th>\n",
       "      <th></th>\n",
       "      <th></th>\n",
       "      <th></th>\n",
       "      <th></th>\n",
       "      <th></th>\n",
       "    </tr>\n",
       "  </thead>\n",
       "  <tbody>\n",
       "    <tr>\n",
       "      <th>2015-01-02 00:00:00+00:00</th>\n",
       "      <td>205.43</td>\n",
       "      <td>206.8800</td>\n",
       "      <td>204.1800</td>\n",
       "      <td>206.3800</td>\n",
       "      <td>201.72</td>\n",
       "    </tr>\n",
       "    <tr>\n",
       "      <th>2015-01-05 00:00:00+00:00</th>\n",
       "      <td>201.72</td>\n",
       "      <td>204.3700</td>\n",
       "      <td>201.3500</td>\n",
       "      <td>204.1700</td>\n",
       "      <td>199.82</td>\n",
       "    </tr>\n",
       "    <tr>\n",
       "      <th>2015-01-06 00:00:00+00:00</th>\n",
       "      <td>199.82</td>\n",
       "      <td>202.7200</td>\n",
       "      <td>198.8600</td>\n",
       "      <td>202.0900</td>\n",
       "      <td>202.31</td>\n",
       "    </tr>\n",
       "    <tr>\n",
       "      <th>2015-01-07 00:00:00+00:00</th>\n",
       "      <td>202.31</td>\n",
       "      <td>202.7200</td>\n",
       "      <td>200.8800</td>\n",
       "      <td>201.4200</td>\n",
       "      <td>205.90</td>\n",
       "    </tr>\n",
       "    <tr>\n",
       "      <th>2015-01-08 00:00:00+00:00</th>\n",
       "      <td>205.90</td>\n",
       "      <td>206.1600</td>\n",
       "      <td>203.9900</td>\n",
       "      <td>204.0100</td>\n",
       "      <td>204.25</td>\n",
       "    </tr>\n",
       "    <tr>\n",
       "      <th>...</th>\n",
       "      <td>...</td>\n",
       "      <td>...</td>\n",
       "      <td>...</td>\n",
       "      <td>...</td>\n",
       "      <td>...</td>\n",
       "    </tr>\n",
       "    <tr>\n",
       "      <th>2019-12-18 00:00:00+00:00</th>\n",
       "      <td>319.59</td>\n",
       "      <td>320.2500</td>\n",
       "      <td>319.5300</td>\n",
       "      <td>320.0000</td>\n",
       "      <td>320.90</td>\n",
       "    </tr>\n",
       "    <tr>\n",
       "      <th>2019-12-19 00:00:00+00:00</th>\n",
       "      <td>320.90</td>\n",
       "      <td>320.9800</td>\n",
       "      <td>319.5246</td>\n",
       "      <td>319.7999</td>\n",
       "      <td>320.73</td>\n",
       "    </tr>\n",
       "    <tr>\n",
       "      <th>2019-12-20 00:00:00+00:00</th>\n",
       "      <td>320.73</td>\n",
       "      <td>321.9742</td>\n",
       "      <td>319.3873</td>\n",
       "      <td>320.4600</td>\n",
       "      <td>321.22</td>\n",
       "    </tr>\n",
       "    <tr>\n",
       "      <th>2019-12-23 00:00:00+00:00</th>\n",
       "      <td>321.22</td>\n",
       "      <td>321.6500</td>\n",
       "      <td>321.0600</td>\n",
       "      <td>321.5900</td>\n",
       "      <td>321.23</td>\n",
       "    </tr>\n",
       "    <tr>\n",
       "      <th>2019-12-24 00:00:00+00:00</th>\n",
       "      <td>321.23</td>\n",
       "      <td>321.5200</td>\n",
       "      <td>320.9000</td>\n",
       "      <td>321.4700</td>\n",
       "      <td>322.94</td>\n",
       "    </tr>\n",
       "  </tbody>\n",
       "</table>\n",
       "<p>1254 rows × 5 columns</p>\n",
       "</div>"
      ],
      "text/plain": [
       "                            close      high       low      open       y\n",
       "date                                                                   \n",
       "2015-01-02 00:00:00+00:00  205.43  206.8800  204.1800  206.3800  201.72\n",
       "2015-01-05 00:00:00+00:00  201.72  204.3700  201.3500  204.1700  199.82\n",
       "2015-01-06 00:00:00+00:00  199.82  202.7200  198.8600  202.0900  202.31\n",
       "2015-01-07 00:00:00+00:00  202.31  202.7200  200.8800  201.4200  205.90\n",
       "2015-01-08 00:00:00+00:00  205.90  206.1600  203.9900  204.0100  204.25\n",
       "...                           ...       ...       ...       ...     ...\n",
       "2019-12-18 00:00:00+00:00  319.59  320.2500  319.5300  320.0000  320.90\n",
       "2019-12-19 00:00:00+00:00  320.90  320.9800  319.5246  319.7999  320.73\n",
       "2019-12-20 00:00:00+00:00  320.73  321.9742  319.3873  320.4600  321.22\n",
       "2019-12-23 00:00:00+00:00  321.22  321.6500  321.0600  321.5900  321.23\n",
       "2019-12-24 00:00:00+00:00  321.23  321.5200  320.9000  321.4700  322.94\n",
       "\n",
       "[1254 rows x 5 columns]"
      ]
     },
     "execution_count": 69,
     "metadata": {},
     "output_type": "execute_result"
    }
   ],
   "source": [
    "df"
   ]
  },
  {
   "cell_type": "code",
   "execution_count": 70,
   "metadata": {},
   "outputs": [],
   "source": [
    "pipe = make_pipeline(StandardScaler(), SGDRegressor(random_state=42))"
   ]
  },
  {
   "cell_type": "code",
   "execution_count": 71,
   "metadata": {},
   "outputs": [],
   "source": [
    "train = df[:1000]\n",
    "test = df[1000:]"
   ]
  },
  {
   "cell_type": "code",
   "execution_count": 72,
   "metadata": {},
   "outputs": [
    {
     "data": {
      "text/plain": [
       "Pipeline(memory=None,\n",
       "         steps=[('standardscaler',\n",
       "                 StandardScaler(copy=True, with_mean=True, with_std=True)),\n",
       "                ('sgdregressor',\n",
       "                 SGDRegressor(alpha=0.0001, average=False, early_stopping=False,\n",
       "                              epsilon=0.1, eta0=0.01, fit_intercept=True,\n",
       "                              l1_ratio=0.15, learning_rate='invscaling',\n",
       "                              loss='squared_loss', max_iter=1000,\n",
       "                              n_iter_no_change=5, penalty='l2', power_t=0.25,\n",
       "                              random_state=42, shuffle=True, tol=0.001,\n",
       "                              validation_fraction=0.1, verbose=0,\n",
       "                              warm_start=False))],\n",
       "         verbose=False)"
      ]
     },
     "execution_count": 72,
     "metadata": {},
     "output_type": "execute_result"
    }
   ],
   "source": [
    "pipe.fit(train[['close', 'open', 'high', 'low']], train['y'])"
   ]
  },
  {
   "cell_type": "code",
   "execution_count": 73,
   "metadata": {},
   "outputs": [
    {
     "data": {
      "text/plain": [
       "0.9745363780146175"
      ]
     },
     "execution_count": 73,
     "metadata": {},
     "output_type": "execute_result"
    }
   ],
   "source": [
    "pipe.score(test[['close', 'open', 'high', 'low']], test['y'])"
   ]
  },
  {
   "cell_type": "code",
   "execution_count": 79,
   "metadata": {},
   "outputs": [],
   "source": [
    "preds = pd.Series(pipe.predict(test[['close', 'open', 'high', 'low']]), name='preds')"
   ]
  },
  {
   "cell_type": "code",
   "execution_count": 75,
   "metadata": {},
   "outputs": [],
   "source": [
    "import matplotlib.pyplot as plt\n",
    "\n",
    "\n",
    "plt.style.use('dark_background')\n"
   ]
  },
  {
   "cell_type": "code",
   "execution_count": 88,
   "metadata": {},
   "outputs": [
    {
     "data": {
      "text/plain": [
       "<matplotlib.legend.Legend at 0x1f7e024fa08>"
      ]
     },
     "execution_count": 88,
     "metadata": {},
     "output_type": "execute_result"
    },
    {
     "data": {
      "image/png": "[encoded data removed]",
      "text/plain": [
       "<Figure size 2160x720 with 1 Axes>"
      ]
     },
     "metadata": {},
     "output_type": "display_data"
    }
   ],
   "source": [
    "test['y'].plot(figsize=(30, 10), c='white', label='actual')\n",
    "preds.shift(-1).plot(c='red', label='predicted')\n",
    "plt.legend(fontsize=20)"
   ]
  },
  {
   "cell_type": "code",
   "execution_count": 78,
   "metadata": {},
   "outputs": [
    {
     "data": {
      "text/html": [
       "<div>\n",
       "<style scoped>\n",
       "    .dataframe tbody tr th:only-of-type {\n",
       "        vertical-align: middle;\n",
       "    }\n",
       "\n",
       "    .dataframe tbody tr th {\n",
       "        vertical-align: top;\n",
       "    }\n",
       "\n",
       "    .dataframe thead th {\n",
       "        text-align: right;\n",
       "    }\n",
       "</style>\n",
       "<table border=\"1\" class=\"dataframe\">\n",
       "  <thead>\n",
       "    <tr style=\"text-align: right;\">\n",
       "      <th></th>\n",
       "      <th>close</th>\n",
       "      <th>high</th>\n",
       "      <th>low</th>\n",
       "      <th>open</th>\n",
       "      <th>y</th>\n",
       "    </tr>\n",
       "    <tr>\n",
       "      <th>date</th>\n",
       "      <th></th>\n",
       "      <th></th>\n",
       "      <th></th>\n",
       "      <th></th>\n",
       "      <th></th>\n",
       "    </tr>\n",
       "  </thead>\n",
       "  <tbody>\n",
       "    <tr>\n",
       "      <th>2015-01-02 00:00:00+00:00</th>\n",
       "      <td>205.43</td>\n",
       "      <td>206.8800</td>\n",
       "      <td>204.1800</td>\n",
       "      <td>206.3800</td>\n",
       "      <td>201.72</td>\n",
       "    </tr>\n",
       "    <tr>\n",
       "      <th>2015-01-05 00:00:00+00:00</th>\n",
       "      <td>201.72</td>\n",
       "      <td>204.3700</td>\n",
       "      <td>201.3500</td>\n",
       "      <td>204.1700</td>\n",
       "      <td>199.82</td>\n",
       "    </tr>\n",
       "    <tr>\n",
       "      <th>2015-01-06 00:00:00+00:00</th>\n",
       "      <td>199.82</td>\n",
       "      <td>202.7200</td>\n",
       "      <td>198.8600</td>\n",
       "      <td>202.0900</td>\n",
       "      <td>202.31</td>\n",
       "    </tr>\n",
       "    <tr>\n",
       "      <th>2015-01-07 00:00:00+00:00</th>\n",
       "      <td>202.31</td>\n",
       "      <td>202.7200</td>\n",
       "      <td>200.8800</td>\n",
       "      <td>201.4200</td>\n",
       "      <td>205.90</td>\n",
       "    </tr>\n",
       "    <tr>\n",
       "      <th>2015-01-08 00:00:00+00:00</th>\n",
       "      <td>205.90</td>\n",
       "      <td>206.1600</td>\n",
       "      <td>203.9900</td>\n",
       "      <td>204.0100</td>\n",
       "      <td>204.25</td>\n",
       "    </tr>\n",
       "    <tr>\n",
       "      <th>...</th>\n",
       "      <td>...</td>\n",
       "      <td>...</td>\n",
       "      <td>...</td>\n",
       "      <td>...</td>\n",
       "      <td>...</td>\n",
       "    </tr>\n",
       "    <tr>\n",
       "      <th>2019-12-18 00:00:00+00:00</th>\n",
       "      <td>319.59</td>\n",
       "      <td>320.2500</td>\n",
       "      <td>319.5300</td>\n",
       "      <td>320.0000</td>\n",
       "      <td>320.90</td>\n",
       "    </tr>\n",
       "    <tr>\n",
       "      <th>2019-12-19 00:00:00+00:00</th>\n",
       "      <td>320.90</td>\n",
       "      <td>320.9800</td>\n",
       "      <td>319.5246</td>\n",
       "      <td>319.7999</td>\n",
       "      <td>320.73</td>\n",
       "    </tr>\n",
       "    <tr>\n",
       "      <th>2019-12-20 00:00:00+00:00</th>\n",
       "      <td>320.73</td>\n",
       "      <td>321.9742</td>\n",
       "      <td>319.3873</td>\n",
       "      <td>320.4600</td>\n",
       "      <td>321.22</td>\n",
       "    </tr>\n",
       "    <tr>\n",
       "      <th>2019-12-23 00:00:00+00:00</th>\n",
       "      <td>321.22</td>\n",
       "      <td>321.6500</td>\n",
       "      <td>321.0600</td>\n",
       "      <td>321.5900</td>\n",
       "      <td>321.23</td>\n",
       "    </tr>\n",
       "    <tr>\n",
       "      <th>2019-12-24 00:00:00+00:00</th>\n",
       "      <td>321.23</td>\n",
       "      <td>321.5200</td>\n",
       "      <td>320.9000</td>\n",
       "      <td>321.4700</td>\n",
       "      <td>322.94</td>\n",
       "    </tr>\n",
       "  </tbody>\n",
       "</table>\n",
       "<p>1254 rows × 5 columns</p>\n",
       "</div>"
      ],
      "text/plain": [
       "                            close      high       low      open       y\n",
       "date                                                                   \n",
       "2015-01-02 00:00:00+00:00  205.43  206.8800  204.1800  206.3800  201.72\n",
       "2015-01-05 00:00:00+00:00  201.72  204.3700  201.3500  204.1700  199.82\n",
       "2015-01-06 00:00:00+00:00  199.82  202.7200  198.8600  202.0900  202.31\n",
       "2015-01-07 00:00:00+00:00  202.31  202.7200  200.8800  201.4200  205.90\n",
       "2015-01-08 00:00:00+00:00  205.90  206.1600  203.9900  204.0100  204.25\n",
       "...                           ...       ...       ...       ...     ...\n",
       "2019-12-18 00:00:00+00:00  319.59  320.2500  319.5300  320.0000  320.90\n",
       "2019-12-19 00:00:00+00:00  320.90  320.9800  319.5246  319.7999  320.73\n",
       "2019-12-20 00:00:00+00:00  320.73  321.9742  319.3873  320.4600  321.22\n",
       "2019-12-23 00:00:00+00:00  321.22  321.6500  321.0600  321.5900  321.23\n",
       "2019-12-24 00:00:00+00:00  321.23  321.5200  320.9000  321.4700  322.94\n",
       "\n",
       "[1254 rows x 5 columns]"
      ]
     },
     "execution_count": 78,
     "metadata": {},
     "output_type": "execute_result"
    }
   ],
   "source": [
    "df"
   ]
  },
  {
   "cell_type": "code",
   "execution_count": null,
   "metadata": {},
   "outputs": [],
   "source": []
  }
 ],
 "metadata": {
  "kernelspec": {
   "display_name": "Python 3",
   "language": "python",
   "name": "python3"
  },
  "language_info": {
   "codemirror_mode": {
    "name": "ipython",
    "version": 3
   },
   "file_extension": ".py",
   "mimetype": "text/x-python",
   "name": "python",
   "nbconvert_exporter": "python",
   "pygments_lexer": "ipython3",
   "version": "3.7.4"
  }
 },
 "nbformat": 4,
 "nbformat_minor": 4
}
